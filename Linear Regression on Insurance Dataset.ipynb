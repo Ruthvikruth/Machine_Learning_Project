{
 "cells": [
  {
   "cell_type": "code",
   "execution_count": 27,
   "id": "e9738729",
   "metadata": {},
   "outputs": [],
   "source": [
    "import matplotlib.pyplot as plt\n",
    "import numpy as np\n",
    "import pandas as pd\n",
    "from sklearn.linear_model import LinearRegression\n",
    "from sklearn.model_selection import train_test_split\n",
    "from sklearn.metrics import r2_score"
   ]
  },
  {
   "cell_type": "code",
   "execution_count": 4,
   "id": "62a29e39",
   "metadata": {},
   "outputs": [],
   "source": [
    "# Linear Regression on Insurance.csv dataset\n",
    "data = pd.read_csv(r'C:\\Users\\Hp\\OneDrive\\Desktop\\Datasets\\Insurance Dataset\\insurance.csv')"
   ]
  },
  {
   "cell_type": "code",
   "execution_count": 5,
   "id": "5bc04fe7",
   "metadata": {},
   "outputs": [
    {
     "name": "stdout",
     "output_type": "stream",
     "text": [
      "      age     sex   bmi  children smoker     region  expenses\n",
      "0      19  female  27.9         0    yes  southwest  16884.92\n",
      "1      18    male  33.8         1     no  southeast   1725.55\n",
      "2      28    male  33.0         3     no  southeast   4449.46\n",
      "3      33    male  22.7         0     no  northwest  21984.47\n",
      "4      32    male  28.9         0     no  northwest   3866.86\n",
      "...   ...     ...   ...       ...    ...        ...       ...\n",
      "1333   50    male  31.0         3     no  northwest  10600.55\n",
      "1334   18  female  31.9         0     no  northeast   2205.98\n",
      "1335   18  female  36.9         0     no  southeast   1629.83\n",
      "1336   21  female  25.8         0     no  southwest   2007.95\n",
      "1337   61  female  29.1         0    yes  northwest  29141.36\n",
      "\n",
      "[1338 rows x 7 columns]\n"
     ]
    }
   ],
   "source": [
    "print(data)"
   ]
  },
  {
   "cell_type": "code",
   "execution_count": 7,
   "id": "40d12aa2",
   "metadata": {},
   "outputs": [],
   "source": [
    "data.loc[data['smoker'] == 'yes','smoker'] = 1\n",
    "data.loc[data['smoker'] == 'no','smoker'] = 0"
   ]
  },
  {
   "cell_type": "code",
   "execution_count": 8,
   "id": "2bb35761",
   "metadata": {},
   "outputs": [
    {
     "name": "stdout",
     "output_type": "stream",
     "text": [
      "      age     sex   bmi  children smoker     region  expenses\n",
      "0      19  female  27.9         0      1  southwest  16884.92\n",
      "1      18    male  33.8         1      0  southeast   1725.55\n",
      "2      28    male  33.0         3      0  southeast   4449.46\n",
      "3      33    male  22.7         0      0  northwest  21984.47\n",
      "4      32    male  28.9         0      0  northwest   3866.86\n",
      "...   ...     ...   ...       ...    ...        ...       ...\n",
      "1333   50    male  31.0         3      0  northwest  10600.55\n",
      "1334   18  female  31.9         0      0  northeast   2205.98\n",
      "1335   18  female  36.9         0      0  southeast   1629.83\n",
      "1336   21  female  25.8         0      0  southwest   2007.95\n",
      "1337   61  female  29.1         0      1  northwest  29141.36\n",
      "\n",
      "[1338 rows x 7 columns]\n"
     ]
    }
   ],
   "source": [
    "print(data)"
   ]
  },
  {
   "cell_type": "code",
   "execution_count": 9,
   "id": "af9af1d1",
   "metadata": {},
   "outputs": [],
   "source": [
    "data.loc[data['sex'] == 'male','sex'] = 1\n",
    "data.loc[data['sex'] == 'female','sex'] = 0"
   ]
  },
  {
   "cell_type": "code",
   "execution_count": 10,
   "id": "a94183e8",
   "metadata": {},
   "outputs": [
    {
     "name": "stdout",
     "output_type": "stream",
     "text": [
      "      age sex   bmi  children smoker     region  expenses\n",
      "0      19   0  27.9         0      1  southwest  16884.92\n",
      "1      18   1  33.8         1      0  southeast   1725.55\n",
      "2      28   1  33.0         3      0  southeast   4449.46\n",
      "3      33   1  22.7         0      0  northwest  21984.47\n",
      "4      32   1  28.9         0      0  northwest   3866.86\n",
      "...   ...  ..   ...       ...    ...        ...       ...\n",
      "1333   50   1  31.0         3      0  northwest  10600.55\n",
      "1334   18   0  31.9         0      0  northeast   2205.98\n",
      "1335   18   0  36.9         0      0  southeast   1629.83\n",
      "1336   21   0  25.8         0      0  southwest   2007.95\n",
      "1337   61   0  29.1         0      1  northwest  29141.36\n",
      "\n",
      "[1338 rows x 7 columns]\n"
     ]
    }
   ],
   "source": [
    "print(data)"
   ]
  },
  {
   "cell_type": "code",
   "execution_count": 13,
   "id": "019eb9e5",
   "metadata": {},
   "outputs": [],
   "source": [
    "data.loc[data['region'] == 'northwest','region'] = 0\n",
    "data.loc[data['region'] == 'northeast','region'] = 1\n",
    "data.loc[data['region'] == 'southwest','region'] = 2\n",
    "data.loc[data['region'] == 'southeast','region'] = 3"
   ]
  },
  {
   "cell_type": "code",
   "execution_count": 16,
   "id": "803d84dc",
   "metadata": {},
   "outputs": [
    {
     "name": "stdout",
     "output_type": "stream",
     "text": [
      "      age sex   bmi  children smoker region  expenses\n",
      "0      19   0  27.9         0      1      2  16884.92\n",
      "1      18   1  33.8         1      0      3   1725.55\n",
      "2      28   1  33.0         3      0      3   4449.46\n",
      "3      33   1  22.7         0      0      0  21984.47\n",
      "4      32   1  28.9         0      0      0   3866.86\n",
      "...   ...  ..   ...       ...    ...    ...       ...\n",
      "1333   50   1  31.0         3      0      0  10600.55\n",
      "1334   18   0  31.9         0      0      1   2205.98\n",
      "1335   18   0  36.9         0      0      3   1629.83\n",
      "1336   21   0  25.8         0      0      2   2007.95\n",
      "1337   61   0  29.1         0      1      0  29141.36\n",
      "\n",
      "[1338 rows x 7 columns]\n"
     ]
    }
   ],
   "source": [
    "print(data)\n",
    "y = data['expenses']\n",
    "x = data.drop(columns = 'expenses')"
   ]
  },
  {
   "cell_type": "code",
   "execution_count": 17,
   "id": "aefade63",
   "metadata": {},
   "outputs": [],
   "source": [
    "x_train,x_test,y_train,y_test = train_test_split(x,y,test_size = 0.3,random_state = 0)"
   ]
  },
  {
   "cell_type": "code",
   "execution_count": 18,
   "id": "c1e63ba0",
   "metadata": {},
   "outputs": [],
   "source": [
    "rgr = LinearRegression()"
   ]
  },
  {
   "cell_type": "code",
   "execution_count": 19,
   "id": "24a2fc89",
   "metadata": {},
   "outputs": [
    {
     "data": {
      "text/plain": [
       "LinearRegression()"
      ]
     },
     "execution_count": 19,
     "metadata": {},
     "output_type": "execute_result"
    }
   ],
   "source": [
    "rgr.fit(x_train,y_train)"
   ]
  },
  {
   "cell_type": "code",
   "execution_count": 20,
   "id": "de57b07b",
   "metadata": {},
   "outputs": [
    {
     "name": "stdout",
     "output_type": "stream",
     "text": [
      "-12037.418266898547\n"
     ]
    }
   ],
   "source": [
    "print(rgr.intercept_)"
   ]
  },
  {
   "cell_type": "code",
   "execution_count": 21,
   "id": "8bfd9296",
   "metadata": {},
   "outputs": [],
   "source": [
    "m = rgr.coef_"
   ]
  },
  {
   "cell_type": "code",
   "execution_count": 23,
   "id": "39eac97f",
   "metadata": {},
   "outputs": [],
   "source": [
    "y_predict = rgr.predict(x_train)"
   ]
  },
  {
   "cell_type": "code",
   "execution_count": 25,
   "id": "6ed27756",
   "metadata": {},
   "outputs": [
    {
     "name": "stdout",
     "output_type": "stream",
     "text": [
      "[ 1.74094753e+03  8.45308122e+03  1.85752751e+04  8.02698497e+03\n",
      "  6.46788250e+03  2.32141511e+03  2.70812839e+04  1.46379754e+04\n",
      "  1.03234047e+04  1.61066336e+04  1.20384461e+04  1.14027789e+04\n",
      "  3.96908708e+04  6.12076585e+03  1.20276444e+04  2.98882326e+03\n",
      "  1.50691015e+04  4.48308185e+03  5.13230734e+03  5.72563710e+03\n",
      "  1.52161632e+04  8.82391705e+03  8.43078025e+03  3.41041871e+04\n",
      "  6.51219147e+03  2.71542873e+04  2.69561274e+04  1.53540521e+04\n",
      "  8.97220904e+03  3.43347382e+04  9.99195666e+03  4.04254169e+03\n",
      "  1.54862657e+04  2.94037225e+04  2.98277307e+04  2.79673528e+04\n",
      "  9.69209150e+03  3.27971428e+04  4.23463019e+03  2.52911174e+04\n",
      "  5.83793140e+03  2.83337792e+04  6.85611148e+03  1.47954400e+04\n",
      "  2.38833332e+03  3.51988610e+04  1.50974822e+04  3.44149767e+03\n",
      "  1.41391442e+03  1.02952707e+04  9.61391988e+03  1.14050998e+04\n",
      "  1.71260243e+04  4.13252841e+03  2.19518402e+03  3.97187268e+03\n",
      "  5.75748038e+03  6.34514969e+03  2.66577212e+04  1.39490743e+04\n",
      "  1.17208325e+04  8.08696227e+03  1.42412792e+04  2.92317100e+03\n",
      "  1.34171179e+04  1.14702457e+04  2.09019930e+03  1.17213773e+03\n",
      "  3.66735016e+04  7.61548993e+03  9.15081211e+03  2.32182532e+03\n",
      "  1.13376828e+04  8.03017546e+03  1.20699819e+04  2.58858770e+04\n",
      "  2.74430017e+04  8.51762353e+03  7.98572214e+03  1.30240229e+02\n",
      "  4.95445768e+03  7.29169469e+03  3.50034537e+03  8.07631831e+03\n",
      "  2.02256339e+03  4.28020513e+03  3.36314963e+04  6.25541718e+03\n",
      "  1.17098316e+04  9.41173537e+03  3.12999483e+04  1.10247363e+04\n",
      "  1.11731663e+04  5.01164848e+03  7.10827241e+03  5.19131243e+03\n",
      "  4.94796230e+03  1.00909648e+04  3.15606782e+04  3.32509671e+03\n",
      "  3.76004760e+04  1.04800558e+04  9.23597961e+03  2.75030370e+03\n",
      "  1.20871621e+04  3.05389882e+04  2.94750547e+03  6.14343036e+03\n",
      "  1.14565552e+04  1.02999871e+04  5.75884284e+03  1.26722445e+04\n",
      "  1.17176005e+04  2.84287768e+04  1.15427424e+04  1.12361822e+04\n",
      "  1.46782798e+04  1.24740293e+04  2.80574285e+04  1.20153776e+04\n",
      "  1.30215378e+04  1.50059828e+04  3.88867747e+03  2.81364751e+04\n",
      "  8.80926808e+03  2.86062167e+04  1.10028804e+04  6.40876885e+03\n",
      "  1.28615465e+04  1.45669020e+04  9.61578907e+03  2.11786853e+03\n",
      "  5.57227959e+03  2.96524804e+03  5.51768903e+03 -7.33513560e+02\n",
      "  1.42655717e+04  3.67119331e+03  1.08238730e+04  1.29294232e+04\n",
      "  1.12187970e+04  9.44824017e+03  1.34590452e+04  7.11569387e+02\n",
      "  1.15140954e+04  9.07583060e+03  8.42545392e+03  1.52827799e+04\n",
      "  1.27264915e+04  3.00127264e+04  1.78211679e+04  1.07728223e+04\n",
      "  9.55145812e+03  1.24696141e+04  5.92782161e+03  1.58428682e+04\n",
      "  6.96201896e+03  5.77355300e+03  3.15909951e+04  1.39893233e+04\n",
      "  1.33186165e+04  1.18037269e+04  1.26387368e+04  5.38385299e+03\n",
      "  2.99344324e+03  4.20883054e+03  5.48261410e+03  1.04433257e+01\n",
      "  8.08767375e+03  7.98743363e+03  6.13881621e+03  1.49756110e+04\n",
      "  4.44861598e+03  7.48341996e+03  4.81605586e+03  1.09330960e+03\n",
      "  6.04198509e+03  6.17131017e+03  2.63375809e+03  3.02421695e+04\n",
      "  1.05364328e+04  1.24678414e+04  3.65989306e+04  5.34364475e+03\n",
      "  1.36058108e+04  8.27663242e+02  7.36028285e+03  2.53549894e+04\n",
      "  1.00610578e+04  5.40879651e+03  1.53391015e+04  8.69404410e+03\n",
      "  3.33269696e+04  1.30295534e+04  9.25498814e+03  1.16432762e+04\n",
      "  2.93677303e+04  4.67952983e+03  8.17937856e+03  1.02335145e+04\n",
      "  2.28871608e+03  3.34784046e+04  2.62511402e+04  1.23832775e+04\n",
      "  7.60078016e+03  6.16208986e+03  3.38243443e+04  3.39931176e+04\n",
      "  1.07107230e+04  2.80651977e+04  3.28082935e+04  4.26616560e+03\n",
      "  3.34598953e+04  8.95370724e+03  3.35810605e+04  2.62753723e+04\n",
      "  1.35388926e+04  1.26308790e+04  5.31744111e+03  1.51155326e+04\n",
      "  1.10377149e+04  4.19817276e+03  1.49942646e+04  1.71483865e+04\n",
      "  2.43826820e+03  7.78090921e+03  3.37224057e+04 -2.34716467e+03\n",
      "  4.79233085e+03  1.14265039e+04  1.45051524e+04  9.20997489e+03\n",
      " -3.71549015e+02  3.75877028e+04  4.07234605e+03  1.55764630e+04\n",
      "  4.80582211e+03  1.90621741e+03  1.09545605e+04  1.08271247e+04\n",
      "  1.57968418e+04  8.60942999e+03  3.83350078e+04  9.81533142e+03\n",
      "  1.16312086e+04  4.83896706e+03  1.21072397e+04  2.62166689e+04\n",
      "  9.63125224e+03  5.84832284e+03  1.02905064e+04  2.50502161e+04\n",
      "  1.00324108e+04  1.09976157e+04  8.61485865e+03  1.57388914e+04\n",
      "  3.16144972e+03 -1.38470474e+03  3.98775043e+02  2.84793761e+04\n",
      "  5.53797181e+03  1.42836162e+04  3.59413786e+03  3.47649065e+04\n",
      "  3.35079325e+03  8.85718360e+03  7.69386669e+03  1.42577558e+04\n",
      "  8.41572107e+03 -1.39762849e+03  7.48454204e+03  1.24790948e+04\n",
      "  1.07128031e+04  5.57319653e+03  2.72239920e+04  1.75849223e+04\n",
      "  1.84997267e+04  2.55208266e+03  5.08373493e+03  1.08816736e+04\n",
      "  6.30179257e+03  8.13485821e+03  5.50491585e+03  1.39860305e+04\n",
      "  1.85095660e+03  7.67075074e+03  3.55794054e+03  1.56179037e+03\n",
      "  9.50659459e+03  5.94987084e+03  1.44529214e+03  1.14469855e+04\n",
      "  9.04014108e+03  3.90411029e+04  1.35752888e+04  3.06707091e+04\n",
      "  2.41558795e+04  1.34789706e+04  7.66694497e+03  4.28112206e+03\n",
      "  6.16471789e+03  7.77122411e+03  1.72635696e+04  5.26811568e+03\n",
      "  1.84376109e+03  4.18980858e+03  1.15408670e+04  5.17027112e+03\n",
      "  9.23811544e+03  1.08008598e+04  9.78070202e+03  1.18286704e+04\n",
      "  3.48588017e+04  1.03024720e+04  1.08758410e+04  2.88993934e+04\n",
      "  1.52675698e+03  1.13341433e+03  9.83191037e+03  4.31046123e+03\n",
      "  7.13823990e+03  2.98223137e+03  7.20515812e+03  2.33698456e+04\n",
      "  1.18055960e+04  5.49766706e+03  4.09997956e+03  1.72599634e+04\n",
      "  7.23262772e+03  1.50673463e+03  1.30496072e+03  7.63308823e+03\n",
      "  8.54256161e+03  6.61991285e+03  8.98766639e+03  8.60116232e+03\n",
      "  1.14172224e+04  3.48397794e+04  5.55906011e+03  3.81186831e+03\n",
      "  1.09595433e+04  6.17055677e+03  7.68078525e+03  9.66445838e+03\n",
      "  9.19101413e+03  1.06218936e+04  6.47786956e+03  9.45407283e+03\n",
      "  2.79793596e+04  2.24697925e+04  1.09087389e+04  8.84764207e+03\n",
      " -4.21738098e+02  2.43360086e+04  5.56164146e+03  2.15797365e+03\n",
      "  5.52057787e+03  2.78746768e+04  1.60756657e+04  3.85829112e+04\n",
      "  1.59348880e+04  1.41511976e+04  3.43317464e+03  2.56866425e+04\n",
      "  1.03573638e+04  1.36498594e+04  1.33295621e+04  4.14392578e+03\n",
      "  1.01536733e+04  3.86125221e+04  2.59152774e+04  4.32085851e+03\n",
      "  1.44917220e+04  3.15806943e+04  6.19686314e+03  2.83894502e+04\n",
      "  6.13435945e+03  1.20649576e+04  8.04655557e+03  1.23399266e+04\n",
      "  4.05369237e+03  1.26385320e+04  1.32040012e+04  3.99437949e+03\n",
      "  1.23944890e+04  1.71312533e+04  2.57956382e+04  1.33839730e+04\n",
      "  2.81696812e+04  2.66259391e+04  7.96407146e+03  1.17584531e+04\n",
      "  3.59247255e+04  1.15658105e+04  9.89264691e+03  1.20220248e+04\n",
      "  1.06709253e+04  8.56816164e+03  4.86503265e+03  1.20611023e+03\n",
      "  2.73798835e+04  1.15879126e+04  1.31682561e+04 -8.70141932e+02\n",
      "  7.93664301e+03  5.26024993e+03  1.31049326e+04  1.04186129e+04\n",
      "  8.35615359e+03  3.10085913e+04  9.67855870e+03  3.22962805e+03\n",
      "  1.17531276e+04  1.10305140e+04  7.29686254e+03  1.46090818e+04\n",
      "  9.55318374e+03  1.12292413e+04  1.24060911e+04  5.87788673e+03\n",
      "  2.93508844e+03  4.04077621e+04  1.29178685e+04  1.51218225e+04\n",
      "  8.90660592e+03  5.44914793e+03  1.03278199e+04  4.67952983e+03\n",
      "  9.42198877e+03  1.34807979e+04  3.24787734e+03  3.49578074e+03\n",
      "  8.95081839e+03  4.41302811e+03  5.67915897e+03  8.81099953e+03\n",
      "  5.32336275e+03  2.59216226e+04  4.52972350e+03  5.00971811e+03\n",
      "  5.84214155e+03  9.53244960e+03  4.62847917e+03  1.46922166e+04\n",
      "  1.64160874e+04  2.67137413e+04  3.57289340e+04  2.24436005e+03\n",
      "  3.65347985e+04  3.45588660e+03  1.56124968e+04  7.16819435e+03\n",
      "  6.65555608e+03  3.05929888e+04  1.40144720e+04  1.12648292e+04\n",
      "  8.55868090e+03  2.20861448e+03  1.56851569e+04  3.01761683e+04\n",
      " -8.05600011e+02  9.10350604e+03  9.55696916e+03  9.24079922e+03\n",
      "  1.41817666e+04  5.05458164e+03  4.32187817e+03  1.30463371e+04\n",
      "  2.63905135e+04  1.68361466e+04  2.90038770e+04  1.64840668e+04\n",
      "  8.84400021e+03  1.10507410e+04  1.49189815e+04  1.20678465e+04\n",
      "  1.11374349e+04  2.51386214e+04  3.31267213e+04  9.60362533e+03\n",
      "  1.09383444e+04  2.67923173e+04  4.02809196e+03  5.93856246e+03\n",
      "  5.79945507e+03  1.10557042e+04  3.86784265e+04  3.38010233e+04\n",
      "  2.73928068e+04  1.41829797e+04  3.59858114e+04  3.97385204e+04\n",
      "  2.37185671e+03  2.64257881e+04  6.10880096e+03  3.69027517e+04\n",
      "  5.40464171e+03  1.14433299e+04  2.31964244e+03  3.48027737e+04\n",
      "  1.53976551e+04  7.64707279e+03  1.21544434e+04  5.30208066e+03\n",
      "  1.06638271e+04  2.91649367e+04  8.07205326e+03  2.53544827e+04\n",
      "  1.10328957e+04 -2.02323956e+02  3.30395701e+04  1.16023153e+04\n",
      "  7.21407133e+03  1.12598602e+04  2.86810535e+04  1.11197335e+04\n",
      " -8.13964576e+02  4.42884031e+03  8.35550260e+03  3.93683967e+03\n",
      "  2.45373138e+03  1.15315913e+04  8.48679408e+03  3.32160377e+04\n",
      "  1.34952896e+04  3.05143481e+03  5.83767927e+03  3.10564045e+04\n",
      "  1.07075270e+04  1.77354421e+03  3.66268658e+04  9.24434418e+03\n",
      "  3.68577854e+04  6.89616125e+03  1.40878797e+04  7.14385406e+03\n",
      "  2.85223697e+04  3.84021331e+03  1.69627817e+04  1.14547826e+04\n",
      "  8.81799541e+03  3.65530540e+04  1.35750896e+04  1.81625618e+04\n",
      "  1.59724952e+04  3.80475115e+04  1.18974025e+04  3.13843545e+04\n",
      "  9.32647927e+03  4.22114476e+03  9.61806885e+03  1.22668342e+04\n",
      "  1.17427907e+04  8.95096235e+03  1.50377649e+04  3.08788323e+02\n",
      "  7.23840579e+03  1.17977440e+04  4.61682177e+03  1.32517536e+04\n",
      "  3.22830864e+04  1.09921396e+04  2.52714444e+04  2.68450383e+04\n",
      "  1.46172413e+04  1.44591727e+04  1.46784845e+04  6.61864690e+03\n",
      "  3.08912923e+04  1.52514495e+04  2.98227260e+04  6.50448342e+03\n",
      "  1.94246179e+03  3.01142128e+04  8.06698736e+03  3.20187146e+04\n",
      "  3.30937760e+04  3.24916992e+04  3.40224868e+03  8.96029913e+03\n",
      "  9.76281549e+03  9.65548436e+03  3.19093562e+04  2.96773287e+04\n",
      "  7.92093354e+03  3.12309970e+04  1.12950438e+04  7.87995893e+03\n",
      "  4.04148088e+03  2.97577797e+04  1.16701363e+04  1.55702758e+04\n",
      "  1.61144915e+04  7.36671704e+03  3.40123485e+03  5.73882126e+03\n",
      "  3.12734839e+04  6.04147837e+03  5.99018103e+03  1.09787514e+04\n",
      "  1.41445088e+04  7.48327639e+03  1.02918689e+04  1.56735961e+04\n",
      "  1.08809065e+04  3.48225377e+03  5.36885461e+03  2.84668018e+04\n",
      "  3.50874365e+04  1.07102162e+04  9.85918112e+03  7.88113590e+03\n",
      "  1.04128709e+04  7.16226688e+03  1.71846807e+04  2.96564310e+04\n",
      "  1.43652305e+04  1.21376535e+04  1.47849788e+03  1.49350541e+04\n",
      "  1.80355363e+03  9.18544151e+03  1.39145476e+04  1.47408913e+04\n",
      "  7.62076058e+03  1.42830068e+04  6.59665302e+03  1.12431315e+04\n",
      "  1.00158315e+04  5.11197758e+03  9.78348813e+03  2.51177830e+03\n",
      "  1.39975855e+04  2.96347536e+03  2.75081042e+03  7.49969773e+03\n",
      "  1.54105789e+04  9.01519718e+03  1.13770149e+04  3.16723019e+04\n",
      "  5.57411346e+03  1.22355123e+03  1.59549515e+04  6.98077497e+03\n",
      "  1.17729028e+04  1.18692214e+04  1.06976423e+04  9.04187183e+03\n",
      "  1.18854984e+04  1.63965171e+04  7.20186528e+03  1.12255383e+04\n",
      "  3.67766229e+04  5.09396907e+03  7.29281047e+03  3.99192037e+04\n",
      "  1.02320081e+04  5.11065627e+03  1.25133144e+04  3.99240758e+03\n",
      "  3.90288302e+04  3.35618943e+04  1.50790281e+04 -7.37318946e+02\n",
      "  1.34224435e+04  3.10279626e+04  2.90548806e+04  1.14773444e+04\n",
      "  5.56483779e+03  1.75919721e+03  1.50214879e+04  3.05574731e+03\n",
      "  7.25513492e+03  2.32511816e+03  2.96954203e+04  3.29782857e+04\n",
      "  3.46650842e+04  1.30491651e+04  1.92220996e+04  7.54441692e+03\n",
      "  3.89203417e+04  9.40545136e+03  3.17300478e+03  1.30816175e+04\n",
      "  8.00498487e+03  3.72392648e+04  1.14617843e+04  8.12649987e+03\n",
      "  4.08172405e+03  2.70036882e+03  5.92325699e+03  1.31581662e+04\n",
      "  2.90327231e+04  1.10889099e+04  6.32704397e+03  2.73157098e+04\n",
      "  3.08385105e+04  1.17135900e+04  2.87476212e+03  1.24215546e+04\n",
      "  3.47188248e+04  3.43279612e+04  2.94226695e+04  2.31862900e+03\n",
      "  1.24410698e+04  7.85137316e+03  2.00811405e+03  3.86931162e+03\n",
      "  8.35842715e+03  9.49781981e+03  9.72737158e+03  7.00525922e+03\n",
      "  3.71225107e+03  9.57731274e+03  1.42970467e+04  9.32865594e+03\n",
      "  5.82779415e+03  1.62462591e+04  8.43017041e+03 -1.66327446e+03\n",
      "  1.16762769e+04  1.34996020e+04  3.31191239e+04  2.74260126e+04\n",
      "  1.17766063e+04  8.64704512e+03  1.38073251e+04  2.94292810e+04\n",
      "  1.72384209e+04  6.39579566e+03  1.17621009e+04  9.59668403e+03\n",
      "  2.92459556e+04  8.15184738e+03  3.17221423e+04  1.32901276e+04\n",
      "  4.99460395e+03  1.78574673e+04  2.86457124e+04 -5.20848617e+02\n",
      "  4.79129550e+02  3.11505436e+03  6.43239735e+03  2.69119565e+04\n",
      "  4.48896779e+03  1.04562889e+04  7.89861843e+03  1.22195340e+04\n",
      "  2.63570003e+04  1.54366856e+04  3.52751572e+04  3.15774015e+04\n",
      "  7.01235822e+03  3.42118673e+04  1.39978926e+04  7.39825284e+03\n",
      "  7.66100997e+03  1.04043686e+04  9.07898025e+03  1.25687246e+04\n",
      "  9.30593645e+03  1.24692651e+04  7.31192103e+03  3.49857269e+03\n",
      "  3.02883598e+04  3.50972376e+03  8.39027005e+03  6.97089063e+03\n",
      "  3.21847698e+03  1.28392925e+04  4.32897333e+02  2.42883551e+02\n",
      "  1.24638368e+04  1.62764677e+04  8.16132811e+03  1.03059696e+04\n",
      "  3.54319106e+04  3.53126754e+04  1.30932333e+04  6.33880410e+03\n",
      "  2.28810703e+03  1.21529174e+04  3.32341493e+04  1.30266641e+04\n",
      "  3.53193696e+04  1.41874420e+04  1.03139243e+04  1.28920077e+04\n",
      "  5.15049545e+03  5.37583745e+03  6.63046860e+03  1.59352789e+04\n",
      "  1.23153459e+04  9.22782019e+03  3.44301656e+04  3.30415743e+03\n",
      "  2.50351988e+04  3.87596447e+04  1.28943479e+04  1.03306531e+04\n",
      "  1.64757493e+04  3.47373757e+04  3.50875863e+04  8.42763098e+03\n",
      "  9.59328847e+03  1.24493317e+04  3.40600354e+04  1.51898569e+04\n",
      "  4.26586364e+03  6.90634832e+03  6.56912223e+03  1.65666533e+04\n",
      "  3.54410420e+04  6.35554114e+03  1.19110380e+04  3.64070472e+04\n",
      "  9.08520899e+03  4.09120479e+03  9.46421007e+03  4.79274145e+03\n",
      "  7.20155780e+03  1.28209347e+04  4.57104169e+03  1.21383100e+04\n",
      "  1.56323748e+04  3.11301609e+04  1.12124514e+04  3.33593611e+04\n",
      "  1.47618852e+04  8.82204748e+03  3.21866188e+04  3.02621915e+04\n",
      "  1.17042120e+04  3.09946541e+04  1.09168983e+04  3.54019836e+03\n",
      "  1.06322501e+04  1.16421538e+04  1.08258034e+04  3.03250639e+04\n",
      "  1.07866626e+04  5.87442998e+03  1.01357315e+04  2.16096483e+03\n",
      "  3.69101993e+04  6.81236451e+03  3.71272209e+03  2.33252464e+03\n",
      "  7.35253356e+03  2.94964874e+04  2.73809027e+04  1.39462328e+04\n",
      "  1.55387756e+03  2.98038064e+04 -1.03617066e+03  4.09963015e+03\n",
      "  2.58807637e+04  1.12509893e+04  3.19185600e+02  5.74309183e+03\n",
      "  1.34212955e+03  1.43213811e+04  1.44347359e+04  1.07468650e+04\n",
      "  3.98880143e+03  2.97080911e+04  3.29889293e+04  6.46383042e+03\n",
      "  1.83088153e+04  9.79758846e+03  1.33817905e+04  1.02752487e+04\n",
      "  1.04730595e+04  3.38019361e+03  1.11310897e+04  8.97960931e+03\n",
      "  5.46192189e+03  2.68362219e+04  1.04459327e+04  6.27568544e+03\n",
      "  3.24002968e+04  1.29508688e+04  2.14322226e+03  1.53999349e+04\n",
      "  1.01568696e+04  6.74585612e+03  1.74373403e+03  5.09073703e+03\n",
      "  2.64752771e+04  7.76105866e+02  7.77717505e+01  3.22302630e+04\n",
      "  4.85721052e+02  1.32249821e+04  6.58646120e+03  9.49006508e+03\n",
      "  3.65778952e+04  1.21447480e+03  4.03932570e+04  1.18195391e+04\n",
      "  1.47468264e+04  3.36348918e+04  1.04590142e+04  4.29829711e+03\n",
      "  3.44042342e+03  3.18399119e+04  1.38287287e+04  3.53092269e+03\n",
      "  2.20572564e+03  1.40894947e+04  2.71246352e+04  3.09311315e+04\n",
      "  7.64727202e+03  5.77993983e+03  1.29766685e+04  1.26212962e+04\n",
      "  1.24887195e+04  1.18930072e+04  3.69862489e+04  1.03243216e+04\n",
      "  1.29396632e+04  5.18268775e+03  1.09587291e+04  5.15303527e+03\n",
      "  7.88280585e+03  2.83550201e+04  4.97838154e+03  1.34507885e+04\n",
      "  1.47041873e+04  1.26542312e+03  2.29604726e+04  3.28438215e+03\n",
      "  1.09785460e+04  5.90840326e+03  4.59232961e+03  2.63259487e+03]\n"
     ]
    }
   ],
   "source": [
    "print(y_predict)"
   ]
  },
  {
   "cell_type": "code",
   "execution_count": 26,
   "id": "14054991",
   "metadata": {},
   "outputs": [
    {
     "data": {
      "text/plain": [
       "<matplotlib.collections.PathCollection at 0x1d0d596d9a0>"
      ]
     },
     "execution_count": 26,
     "metadata": {},
     "output_type": "execute_result"
    },
    {
     "data": {
      "image/png": "[encoded data removed]",
      "text/plain": [
       "<Figure size 432x288 with 1 Axes>"
      ]
     },
     "metadata": {
      "needs_background": "light"
     },
     "output_type": "display_data"
    }
   ],
   "source": [
    "plt.scatter(y_train,y_predict)\n",
    "plt.xlabel(\"Actual Charges\")\n",
    "plt.ylablel(\"Predicted Charges\")"
   ]
  },
  {
   "cell_type": "code",
   "execution_count": 28,
   "id": "f630ec36",
   "metadata": {},
   "outputs": [
    {
     "data": {
      "text/plain": [
       "0.7304043264797877"
      ]
     },
     "execution_count": 28,
     "metadata": {},
     "output_type": "execute_result"
    }
   ],
   "source": [
    "r2_score(y_train,y_predict)"
   ]
  },
  {
   "cell_type": "code",
   "execution_count": 31,
   "id": "6eec17ef",
   "metadata": {},
   "outputs": [
    {
     "data": {
      "text/plain": [
       "Text(0, 0.5, 'Predicted Charges')"
      ]
     },
     "execution_count": 31,
     "metadata": {},
     "output_type": "execute_result"
    },
    {
     "data": {
      "image/png": "[encoded data removed]",
      "text/plain": [
       "<Figure size 432x288 with 1 Axes>"
      ]
     },
     "metadata": {
      "needs_background": "light"
     },
     "output_type": "display_data"
    }
   ],
   "source": [
    "y_predict_test = rgr.predict(x_test)\n",
    "plt.scatter(y_test,y_predict_test)\n",
    "plt.xlabel(\"Actual Charges\")\n",
    "plt.ylabel(\"Predicted Charges\")"
   ]
  },
  {
   "cell_type": "code",
   "execution_count": 32,
   "id": "2a441f63",
   "metadata": {},
   "outputs": [
    {
     "data": {
      "text/plain": [
       "0.7907946556552004"
      ]
     },
     "execution_count": 32,
     "metadata": {},
     "output_type": "execute_result"
    }
   ],
   "source": [
    "r2_score(y_test,y_predict_test)"
   ]
  },
  {
   "cell_type": "code",
   "execution_count": null,
   "id": "bde53454",
   "metadata": {},
   "outputs": [],
   "source": []
  }
 ],
 "metadata": {
  "kernelspec": {
   "display_name": "Python 3 (ipykernel)",
   "language": "python",
   "name": "python3"
  },
  "language_info": {
   "codemirror_mode": {
    "name": "ipython",
    "version": 3
   },
   "file_extension": ".py",
   "mimetype": "text/x-python",
   "name": "python",
   "nbconvert_exporter": "python",
   "pygments_lexer": "ipython3",
   "version": "3.9.12"
  }
 },
 "nbformat": 4,
 "nbformat_minor": 5
}
