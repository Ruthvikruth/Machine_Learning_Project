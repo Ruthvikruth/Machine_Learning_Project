{
 "cells": [
  {
   "cell_type": "code",
   "execution_count": 12,
   "id": "9dff59ae",
   "metadata": {},
   "outputs": [],
   "source": [
    "import numpy as np\n",
    "import matplotlib.pyplot as plt\n",
    "import pandas as pd\n",
    "from sklearn.cluster import KMeans"
   ]
  },
  {
   "cell_type": "code",
   "execution_count": 2,
   "id": "9d7894d9",
   "metadata": {},
   "outputs": [],
   "source": [
    "data = pd.read_csv(r\"C:\\Users\\Hp\\OneDrive\\Desktop\\Datasets\\Spotify Dataset\\SpotifyFeatures.csv\")"
   ]
  },
  {
   "cell_type": "code",
   "execution_count": 3,
   "id": "0cb36c12",
   "metadata": {},
   "outputs": [
    {
     "name": "stdout",
     "output_type": "stream",
     "text": [
      "        genre               artist_name                        track_name  \\\n",
      "0       Movie            Henri Salvador       C'est beau de faire un Show   \n",
      "1       Movie         Martin & les fées  Perdu d'avance (par Gad Elmaleh)   \n",
      "2       Movie           Joseph Williams    Don't Let Me Be Lonely Tonight   \n",
      "3       Movie            Henri Salvador    Dis-moi Monsieur Gordon Cooper   \n",
      "4       Movie              Fabien Nataf                         Ouverture   \n",
      "...       ...                       ...                               ...   \n",
      "232720   Soul                     Slave                      Son Of Slide   \n",
      "232721   Soul  Jr Thomas & The Volcanos                      Burning Fire   \n",
      "232722   Soul              Muddy Waters    (I'm Your) Hoochie Coochie Man   \n",
      "232723   Soul                   R.LUM.R                     With My Words   \n",
      "232724   Soul            Mint Condition    You Don't Have To Hurt No More   \n",
      "\n",
      "                      track_id  popularity  acousticness  danceability  \\\n",
      "0       0BRjO6ga9RKCKjfDqeFgWV           0       0.61100         0.389   \n",
      "1       0BjC1NfoEOOusryehmNudP           1       0.24600         0.590   \n",
      "2       0CoSDzoNIKCRs124s9uTVy           3       0.95200         0.663   \n",
      "3       0Gc6TVm52BwZD07Ki6tIvf           0       0.70300         0.240   \n",
      "4       0IuslXpMROHdEPvSl1fTQK           4       0.95000         0.331   \n",
      "...                        ...         ...           ...           ...   \n",
      "232720  2XGLdVl7lGeq8ksM6Al7jT          39       0.00384         0.687   \n",
      "232721  1qWZdkBl4UVPj9lK6HuuFM          38       0.03290         0.785   \n",
      "232722  2ziWXUmQLrXTiYjCg2fZ2t          47       0.90100         0.517   \n",
      "232723  6EFsue2YbIG4Qkq8Zr9Rir          44       0.26200         0.745   \n",
      "232724  34XO9RwPMKjbvRry54QzWn          35       0.09730         0.758   \n",
      "\n",
      "        duration_ms  energy  instrumentalness key  liveness  loudness   mode  \\\n",
      "0             99373   0.910          0.000000  C#    0.3460    -1.828  Major   \n",
      "1            137373   0.737          0.000000  F#    0.1510    -5.559  Minor   \n",
      "2            170267   0.131          0.000000   C    0.1030   -13.879  Minor   \n",
      "3            152427   0.326          0.000000  C#    0.0985   -12.178  Major   \n",
      "4             82625   0.225          0.123000   F    0.2020   -21.150  Major   \n",
      "...             ...     ...               ...  ..       ...       ...    ...   \n",
      "232720       326240   0.714          0.544000   D    0.0845   -10.626  Major   \n",
      "232721       282447   0.683          0.000880   E    0.2370    -6.944  Minor   \n",
      "232722       166960   0.419          0.000000   D    0.0945    -8.282  Major   \n",
      "232723       222442   0.704          0.000000   A    0.3330    -7.137  Major   \n",
      "232724       323027   0.470          0.000049  G#    0.0836    -6.708  Minor   \n",
      "\n",
      "        speechiness    tempo time_signature  valence  \n",
      "0            0.0525  166.969            4/4    0.814  \n",
      "1            0.0868  174.003            4/4    0.816  \n",
      "2            0.0362   99.488            5/4    0.368  \n",
      "3            0.0395  171.758            4/4    0.227  \n",
      "4            0.0456  140.576            4/4    0.390  \n",
      "...             ...      ...            ...      ...  \n",
      "232720       0.0316  115.542            4/4    0.962  \n",
      "232721       0.0337  113.830            4/4    0.969  \n",
      "232722       0.1480   84.135            4/4    0.813  \n",
      "232723       0.1460  100.031            4/4    0.489  \n",
      "232724       0.0287  113.897            4/4    0.479  \n",
      "\n",
      "[232725 rows x 18 columns]\n"
     ]
    }
   ],
   "source": [
    "print(data) #0,1,2,3,-2"
   ]
  },
  {
   "cell_type": "code",
   "execution_count": 4,
   "id": "ba733092",
   "metadata": {},
   "outputs": [],
   "source": [
    "data = data.drop(columns = ['genre','artist_name','track_name','track_id'])"
   ]
  },
  {
   "cell_type": "code",
   "execution_count": 6,
   "id": "40b4c128",
   "metadata": {},
   "outputs": [],
   "source": [
    "data = data.drop(columns = ['time_signature'])"
   ]
  },
  {
   "cell_type": "code",
   "execution_count": 7,
   "id": "dbea1589",
   "metadata": {},
   "outputs": [
    {
     "name": "stdout",
     "output_type": "stream",
     "text": [
      "        popularity  acousticness  danceability  duration_ms  energy  \\\n",
      "0                0       0.61100         0.389        99373   0.910   \n",
      "1                1       0.24600         0.590       137373   0.737   \n",
      "2                3       0.95200         0.663       170267   0.131   \n",
      "3                0       0.70300         0.240       152427   0.326   \n",
      "4                4       0.95000         0.331        82625   0.225   \n",
      "...            ...           ...           ...          ...     ...   \n",
      "232720          39       0.00384         0.687       326240   0.714   \n",
      "232721          38       0.03290         0.785       282447   0.683   \n",
      "232722          47       0.90100         0.517       166960   0.419   \n",
      "232723          44       0.26200         0.745       222442   0.704   \n",
      "232724          35       0.09730         0.758       323027   0.470   \n",
      "\n",
      "        instrumentalness key  liveness  loudness   mode  speechiness    tempo  \\\n",
      "0               0.000000  C#    0.3460    -1.828  Major       0.0525  166.969   \n",
      "1               0.000000  F#    0.1510    -5.559  Minor       0.0868  174.003   \n",
      "2               0.000000   C    0.1030   -13.879  Minor       0.0362   99.488   \n",
      "3               0.000000  C#    0.0985   -12.178  Major       0.0395  171.758   \n",
      "4               0.123000   F    0.2020   -21.150  Major       0.0456  140.576   \n",
      "...                  ...  ..       ...       ...    ...          ...      ...   \n",
      "232720          0.544000   D    0.0845   -10.626  Major       0.0316  115.542   \n",
      "232721          0.000880   E    0.2370    -6.944  Minor       0.0337  113.830   \n",
      "232722          0.000000   D    0.0945    -8.282  Major       0.1480   84.135   \n",
      "232723          0.000000   A    0.3330    -7.137  Major       0.1460  100.031   \n",
      "232724          0.000049  G#    0.0836    -6.708  Minor       0.0287  113.897   \n",
      "\n",
      "        valence  \n",
      "0         0.814  \n",
      "1         0.816  \n",
      "2         0.368  \n",
      "3         0.227  \n",
      "4         0.390  \n",
      "...         ...  \n",
      "232720    0.962  \n",
      "232721    0.969  \n",
      "232722    0.813  \n",
      "232723    0.489  \n",
      "232724    0.479  \n",
      "\n",
      "[232725 rows x 13 columns]\n"
     ]
    }
   ],
   "source": [
    "print(data)"
   ]
  },
  {
   "cell_type": "code",
   "execution_count": 8,
   "id": "1c3f3c0d",
   "metadata": {},
   "outputs": [
    {
     "name": "stdout",
     "output_type": "stream",
     "text": [
      "{'Major', 'Minor'}\n"
     ]
    }
   ],
   "source": [
    "print(set(data['mode']))"
   ]
  },
  {
   "cell_type": "code",
   "execution_count": 9,
   "id": "78dd0af0",
   "metadata": {},
   "outputs": [],
   "source": [
    "data.loc[data['mode'] == 'Major','mode'] = 1\n",
    "data.loc[data['mode'] == 'Minor','mode'] = 0"
   ]
  },
  {
   "cell_type": "code",
   "execution_count": 10,
   "id": "3acd36c4",
   "metadata": {},
   "outputs": [
    {
     "name": "stdout",
     "output_type": "stream",
     "text": [
      "        popularity  acousticness  danceability  duration_ms  energy  \\\n",
      "0                0       0.61100         0.389        99373   0.910   \n",
      "1                1       0.24600         0.590       137373   0.737   \n",
      "2                3       0.95200         0.663       170267   0.131   \n",
      "3                0       0.70300         0.240       152427   0.326   \n",
      "4                4       0.95000         0.331        82625   0.225   \n",
      "...            ...           ...           ...          ...     ...   \n",
      "232720          39       0.00384         0.687       326240   0.714   \n",
      "232721          38       0.03290         0.785       282447   0.683   \n",
      "232722          47       0.90100         0.517       166960   0.419   \n",
      "232723          44       0.26200         0.745       222442   0.704   \n",
      "232724          35       0.09730         0.758       323027   0.470   \n",
      "\n",
      "        instrumentalness key  liveness  loudness mode  speechiness    tempo  \\\n",
      "0               0.000000  C#    0.3460    -1.828    1       0.0525  166.969   \n",
      "1               0.000000  F#    0.1510    -5.559    0       0.0868  174.003   \n",
      "2               0.000000   C    0.1030   -13.879    0       0.0362   99.488   \n",
      "3               0.000000  C#    0.0985   -12.178    1       0.0395  171.758   \n",
      "4               0.123000   F    0.2020   -21.150    1       0.0456  140.576   \n",
      "...                  ...  ..       ...       ...  ...          ...      ...   \n",
      "232720          0.544000   D    0.0845   -10.626    1       0.0316  115.542   \n",
      "232721          0.000880   E    0.2370    -6.944    0       0.0337  113.830   \n",
      "232722          0.000000   D    0.0945    -8.282    1       0.1480   84.135   \n",
      "232723          0.000000   A    0.3330    -7.137    1       0.1460  100.031   \n",
      "232724          0.000049  G#    0.0836    -6.708    0       0.0287  113.897   \n",
      "\n",
      "        valence  \n",
      "0         0.814  \n",
      "1         0.816  \n",
      "2         0.368  \n",
      "3         0.227  \n",
      "4         0.390  \n",
      "...         ...  \n",
      "232720    0.962  \n",
      "232721    0.969  \n",
      "232722    0.813  \n",
      "232723    0.489  \n",
      "232724    0.479  \n",
      "\n",
      "[232725 rows x 13 columns]\n"
     ]
    }
   ],
   "source": [
    "print(data)"
   ]
  },
  {
   "cell_type": "code",
   "execution_count": 11,
   "id": "63462060",
   "metadata": {},
   "outputs": [
    {
     "name": "stdout",
     "output_type": "stream",
     "text": [
      "{'F', 'C#', 'D#', 'D', 'A', 'F#', 'B', 'G', 'C', 'G#', 'A#', 'E'}\n"
     ]
    }
   ],
   "source": [
    "print(set(data['key']))"
   ]
  },
  {
   "cell_type": "code",
   "execution_count": 13,
   "id": "09996141",
   "metadata": {},
   "outputs": [],
   "source": [
    "data.loc[data['key'] == 'A','key'] = 0\n",
    "data.loc[data['key'] == 'A#','key'] = 1\n",
    "data.loc[data['key'] == 'B','key'] = 2\n",
    "data.loc[data['key'] == 'C','key'] = 3\n",
    "data.loc[data['key'] == 'C#','key'] = 4\n",
    "data.loc[data['key'] == 'D','key'] = 5\n",
    "\n",
    "data.loc[data['key'] == 'D#','key'] = 6\n",
    "data.loc[data['key'] == 'E','key'] = 7\n",
    "data.loc[data['key'] == 'F','key'] = 8\n",
    "data.loc[data['key'] == 'F#','key'] = 9\n",
    "data.loc[data['key'] == 'G','key'] = 10\n",
    "data.loc[data['key'] == 'G#','key'] = 11"
   ]
  },
  {
   "cell_type": "code",
   "execution_count": 14,
   "id": "71ded168",
   "metadata": {},
   "outputs": [
    {
     "name": "stdout",
     "output_type": "stream",
     "text": [
      "{0, 1, 2, 3, 4, 5, 6, 7, 8, 9, 10, 11}\n"
     ]
    }
   ],
   "source": [
    "print(set(data['key']))"
   ]
  },
  {
   "cell_type": "code",
   "execution_count": 16,
   "id": "ad343cb1",
   "metadata": {},
   "outputs": [],
   "source": [
    "k_means = KMeans(3)"
   ]
  },
  {
   "cell_type": "code",
   "execution_count": 17,
   "id": "82e09c7d",
   "metadata": {},
   "outputs": [],
   "source": [
    "x = data"
   ]
  },
  {
   "cell_type": "code",
   "execution_count": 18,
   "id": "0e1dd8ce",
   "metadata": {},
   "outputs": [
    {
     "data": {
      "text/plain": [
       "KMeans(n_clusters=3)"
      ]
     },
     "execution_count": 18,
     "metadata": {},
     "output_type": "execute_result"
    }
   ],
   "source": [
    "k_means.fit(x)"
   ]
  },
  {
   "cell_type": "code",
   "execution_count": 20,
   "id": "eaa9b0ee",
   "metadata": {},
   "outputs": [],
   "source": [
    "identified_clusters = k_means.fit_predict(x)"
   ]
  },
  {
   "cell_type": "code",
   "execution_count": 21,
   "id": "0e6adc91",
   "metadata": {},
   "outputs": [
    {
     "name": "stdout",
     "output_type": "stream",
     "text": [
      "[0 0 0 ... 0 0 1]\n"
     ]
    }
   ],
   "source": [
    "print(identified_clusters)"
   ]
  },
  {
   "cell_type": "code",
   "execution_count": 22,
   "id": "8dd53ba7",
   "metadata": {},
   "outputs": [],
   "source": [
    "data_clusters = data.copy()\n",
    "data_clusters['clusters'] = identified_clusters "
   ]
  },
  {
   "cell_type": "code",
   "execution_count": 23,
   "id": "4738542d",
   "metadata": {},
   "outputs": [
    {
     "name": "stdout",
     "output_type": "stream",
     "text": [
      "        popularity  acousticness  danceability  duration_ms  energy  \\\n",
      "0                0       0.61100         0.389        99373   0.910   \n",
      "1                1       0.24600         0.590       137373   0.737   \n",
      "2                3       0.95200         0.663       170267   0.131   \n",
      "3                0       0.70300         0.240       152427   0.326   \n",
      "4                4       0.95000         0.331        82625   0.225   \n",
      "...            ...           ...           ...          ...     ...   \n",
      "232720          39       0.00384         0.687       326240   0.714   \n",
      "232721          38       0.03290         0.785       282447   0.683   \n",
      "232722          47       0.90100         0.517       166960   0.419   \n",
      "232723          44       0.26200         0.745       222442   0.704   \n",
      "232724          35       0.09730         0.758       323027   0.470   \n",
      "\n",
      "        instrumentalness key  liveness  loudness mode  speechiness    tempo  \\\n",
      "0               0.000000   4    0.3460    -1.828    1       0.0525  166.969   \n",
      "1               0.000000   9    0.1510    -5.559    0       0.0868  174.003   \n",
      "2               0.000000   3    0.1030   -13.879    0       0.0362   99.488   \n",
      "3               0.000000   4    0.0985   -12.178    1       0.0395  171.758   \n",
      "4               0.123000   8    0.2020   -21.150    1       0.0456  140.576   \n",
      "...                  ...  ..       ...       ...  ...          ...      ...   \n",
      "232720          0.544000   5    0.0845   -10.626    1       0.0316  115.542   \n",
      "232721          0.000880   7    0.2370    -6.944    0       0.0337  113.830   \n",
      "232722          0.000000   5    0.0945    -8.282    1       0.1480   84.135   \n",
      "232723          0.000000   0    0.3330    -7.137    1       0.1460  100.031   \n",
      "232724          0.000049  11    0.0836    -6.708    0       0.0287  113.897   \n",
      "\n",
      "        valence  clusters  \n",
      "0         0.814         0  \n",
      "1         0.816         0  \n",
      "2         0.368         0  \n",
      "3         0.227         0  \n",
      "4         0.390         0  \n",
      "...         ...       ...  \n",
      "232720    0.962         1  \n",
      "232721    0.969         0  \n",
      "232722    0.813         0  \n",
      "232723    0.489         0  \n",
      "232724    0.479         1  \n",
      "\n",
      "[232725 rows x 14 columns]\n"
     ]
    }
   ],
   "source": [
    "print(data_clusters)"
   ]
  },
  {
   "cell_type": "code",
   "execution_count": 24,
   "id": "da4ac1b1",
   "metadata": {},
   "outputs": [
    {
     "data": {
      "text/plain": [
       "[<matplotlib.lines.Line2D at 0x13a34797c70>]"
      ]
     },
     "execution_count": 24,
     "metadata": {},
     "output_type": "execute_result"
    },
    {
     "data": {
      "image/png": "[encoded data removed]",
      "text/plain": [
       "<Figure size 432x288 with 1 Axes>"
      ]
     },
     "metadata": {
      "needs_background": "light"
     },
     "output_type": "display_data"
    }
   ],
   "source": [
    "plt.plot(data_clusters['clusters'])"
   ]
  },
  {
   "cell_type": "code",
   "execution_count": 26,
   "id": "8ad9bc0c",
   "metadata": {},
   "outputs": [
    {
     "name": "stdout",
     "output_type": "stream",
     "text": [
      "{0, 1, 2}\n"
     ]
    }
   ],
   "source": [
    "print(set(data_clusters['clusters']))"
   ]
  },
  {
   "cell_type": "code",
   "execution_count": null,
   "id": "540c074e",
   "metadata": {},
   "outputs": [],
   "source": []
  }
 ],
 "metadata": {
  "kernelspec": {
   "display_name": "Python 3 (ipykernel)",
   "language": "python",
   "name": "python3"
  },
  "language_info": {
   "codemirror_mode": {
    "name": "ipython",
    "version": 3
   },
   "file_extension": ".py",
   "mimetype": "text/x-python",
   "name": "python",
   "nbconvert_exporter": "python",
   "pygments_lexer": "ipython3",
   "version": "3.9.12"
  }
 },
 "nbformat": 4,
 "nbformat_minor": 5
}
