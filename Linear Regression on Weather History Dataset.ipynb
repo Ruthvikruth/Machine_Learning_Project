{
 "cells": [
  {
   "cell_type": "code",
   "execution_count": 1,
   "id": "97de4bc5",
   "metadata": {},
   "outputs": [],
   "source": [
    "import matplotlib.pyplot as plt\n",
    "import numpy as np\n",
    "import pandas as pd\n",
    "from sklearn.linear_model import LinearRegression\n",
    "from sklearn.model_selection import train_test_split\n",
    "from sklearn.metrics import r2_score"
   ]
  },
  {
   "cell_type": "code",
   "execution_count": 2,
   "id": "9302e3da",
   "metadata": {},
   "outputs": [],
   "source": [
    "data = pd.read_csv(r'C:\\Users\\Hp\\OneDrive\\Desktop\\Datasets\\WeatherHistoryDataset\\weatherHistory.csv')"
   ]
  },
  {
   "cell_type": "code",
   "execution_count": 3,
   "id": "03eb4dd7",
   "metadata": {},
   "outputs": [
    {
     "name": "stdout",
     "output_type": "stream",
     "text": [
      "                      Formatted Date        Summary Precip Type  \\\n",
      "0      2006-04-01 00:00:00.000 +0200  Partly Cloudy        rain   \n",
      "1      2006-04-01 01:00:00.000 +0200  Partly Cloudy        rain   \n",
      "2      2006-04-01 02:00:00.000 +0200  Mostly Cloudy        rain   \n",
      "3      2006-04-01 03:00:00.000 +0200  Partly Cloudy        rain   \n",
      "4      2006-04-01 04:00:00.000 +0200  Mostly Cloudy        rain   \n",
      "...                              ...            ...         ...   \n",
      "96448  2016-09-09 19:00:00.000 +0200  Partly Cloudy        rain   \n",
      "96449  2016-09-09 20:00:00.000 +0200  Partly Cloudy        rain   \n",
      "96450  2016-09-09 21:00:00.000 +0200  Partly Cloudy        rain   \n",
      "96451  2016-09-09 22:00:00.000 +0200  Partly Cloudy        rain   \n",
      "96452  2016-09-09 23:00:00.000 +0200  Partly Cloudy        rain   \n",
      "\n",
      "       Temperature (C)  Apparent Temperature (C)  Humidity  Wind Speed (km/h)  \\\n",
      "0             9.472222                  7.388889      0.89            14.1197   \n",
      "1             9.355556                  7.227778      0.86            14.2646   \n",
      "2             9.377778                  9.377778      0.89             3.9284   \n",
      "3             8.288889                  5.944444      0.83            14.1036   \n",
      "4             8.755556                  6.977778      0.83            11.0446   \n",
      "...                ...                       ...       ...                ...   \n",
      "96448        26.016667                 26.016667      0.43            10.9963   \n",
      "96449        24.583333                 24.583333      0.48            10.0947   \n",
      "96450        22.038889                 22.038889      0.56             8.9838   \n",
      "96451        21.522222                 21.522222      0.60            10.5294   \n",
      "96452        20.438889                 20.438889      0.61             5.8765   \n",
      "\n",
      "       Wind Bearing (degrees)  Visibility (km)  Loud Cover  \\\n",
      "0                       251.0          15.8263         0.0   \n",
      "1                       259.0          15.8263         0.0   \n",
      "2                       204.0          14.9569         0.0   \n",
      "3                       269.0          15.8263         0.0   \n",
      "4                       259.0          15.8263         0.0   \n",
      "...                       ...              ...         ...   \n",
      "96448                    31.0          16.1000         0.0   \n",
      "96449                    20.0          15.5526         0.0   \n",
      "96450                    30.0          16.1000         0.0   \n",
      "96451                    20.0          16.1000         0.0   \n",
      "96452                    39.0          15.5204         0.0   \n",
      "\n",
      "       Pressure (millibars)                           Daily Summary  \n",
      "0                   1015.13       Partly cloudy throughout the day.  \n",
      "1                   1015.63       Partly cloudy throughout the day.  \n",
      "2                   1015.94       Partly cloudy throughout the day.  \n",
      "3                   1016.41       Partly cloudy throughout the day.  \n",
      "4                   1016.51       Partly cloudy throughout the day.  \n",
      "...                     ...                                     ...  \n",
      "96448               1014.36  Partly cloudy starting in the morning.  \n",
      "96449               1015.16  Partly cloudy starting in the morning.  \n",
      "96450               1015.66  Partly cloudy starting in the morning.  \n",
      "96451               1015.95  Partly cloudy starting in the morning.  \n",
      "96452               1016.16  Partly cloudy starting in the morning.  \n",
      "\n",
      "[96453 rows x 12 columns]\n"
     ]
    }
   ],
   "source": [
    "print(data)"
   ]
  },
  {
   "cell_type": "code",
   "execution_count": 33,
   "id": "ab81b95c",
   "metadata": {},
   "outputs": [],
   "source": [
    "data.drop('Daily Summary',inplace=True,axis = 1)"
   ]
  },
  {
   "cell_type": "code",
   "execution_count": 19,
   "id": "8f7275db",
   "metadata": {},
   "outputs": [
    {
     "name": "stdout",
     "output_type": "stream",
     "text": [
      "       Temperature (C)  Apparent Temperature (C)  Humidity  Wind Speed (km/h)  \\\n",
      "0             9.472222                  7.388889      0.89            14.1197   \n",
      "1             9.355556                  7.227778      0.86            14.2646   \n",
      "2             9.377778                  9.377778      0.89             3.9284   \n",
      "3             8.288889                  5.944444      0.83            14.1036   \n",
      "4             8.755556                  6.977778      0.83            11.0446   \n",
      "...                ...                       ...       ...                ...   \n",
      "96448        26.016667                 26.016667      0.43            10.9963   \n",
      "96449        24.583333                 24.583333      0.48            10.0947   \n",
      "96450        22.038889                 22.038889      0.56             8.9838   \n",
      "96451        21.522222                 21.522222      0.60            10.5294   \n",
      "96452        20.438889                 20.438889      0.61             5.8765   \n",
      "\n",
      "       Wind Bearing (degrees)  Visibility (km)  Loud Cover  \\\n",
      "0                       251.0          15.8263         0.0   \n",
      "1                       259.0          15.8263         0.0   \n",
      "2                       204.0          14.9569         0.0   \n",
      "3                       269.0          15.8263         0.0   \n",
      "4                       259.0          15.8263         0.0   \n",
      "...                       ...              ...         ...   \n",
      "96448                    31.0          16.1000         0.0   \n",
      "96449                    20.0          15.5526         0.0   \n",
      "96450                    30.0          16.1000         0.0   \n",
      "96451                    20.0          16.1000         0.0   \n",
      "96452                    39.0          15.5204         0.0   \n",
      "\n",
      "       Pressure (millibars)  \n",
      "0                   1015.13  \n",
      "1                   1015.63  \n",
      "2                   1015.94  \n",
      "3                   1016.41  \n",
      "4                   1016.51  \n",
      "...                     ...  \n",
      "96448               1014.36  \n",
      "96449               1015.16  \n",
      "96450               1015.66  \n",
      "96451               1015.95  \n",
      "96452               1016.16  \n",
      "\n",
      "[96453 rows x 8 columns]\n"
     ]
    }
   ],
   "source": [
    "data.drop('Summary',inplace=True,axis = 1)\n",
    "data.drop('Formatted Date',inplace=True,axis = 1)\n",
    "data.drop('Precip Type',inplace=True,axis = 1)\n",
    "print(data)"
   ]
  },
  {
   "cell_type": "code",
   "execution_count": 20,
   "id": "c43fe41b",
   "metadata": {},
   "outputs": [],
   "source": [
    "y = data['Visibility (km)']\n",
    "x = data.drop(columns = 'Visibility (km)')"
   ]
  },
  {
   "cell_type": "code",
   "execution_count": 21,
   "id": "9224bd15",
   "metadata": {},
   "outputs": [],
   "source": [
    "x_train,x_test,y_train,y_test = train_test_split(x,y,test_size = 0.3,random_state = 0)"
   ]
  },
  {
   "cell_type": "code",
   "execution_count": 22,
   "id": "7b5628c0",
   "metadata": {},
   "outputs": [],
   "source": [
    "rgr = LinearRegression()"
   ]
  },
  {
   "cell_type": "code",
   "execution_count": 23,
   "id": "48dc782b",
   "metadata": {},
   "outputs": [
    {
     "data": {
      "text/plain": [
       "LinearRegression()"
      ]
     },
     "execution_count": 23,
     "metadata": {},
     "output_type": "execute_result"
    }
   ],
   "source": [
    "rgr.fit(x_train,y_train)"
   ]
  },
  {
   "cell_type": "code",
   "execution_count": 24,
   "id": "5e52993e",
   "metadata": {},
   "outputs": [
    {
     "name": "stdout",
     "output_type": "stream",
     "text": [
      "8.893190645999525\n"
     ]
    }
   ],
   "source": [
    "print(rgr.intercept_)"
   ]
  },
  {
   "cell_type": "code",
   "execution_count": 25,
   "id": "16b27961",
   "metadata": {},
   "outputs": [],
   "source": [
    "m = rgr.coef_"
   ]
  },
  {
   "cell_type": "code",
   "execution_count": 26,
   "id": "a6b9e555",
   "metadata": {},
   "outputs": [],
   "source": [
    "y_predict = rgr.predict(x_train)"
   ]
  },
  {
   "cell_type": "code",
   "execution_count": 27,
   "id": "2d90591f",
   "metadata": {},
   "outputs": [
    {
     "name": "stdout",
     "output_type": "stream",
     "text": [
      "[10.58536715 12.62064222  8.1671051  ...  9.89541569 10.23646516\n",
      " 11.23718886]\n"
     ]
    }
   ],
   "source": [
    "print(y_predict)"
   ]
  },
  {
   "cell_type": "code",
   "execution_count": 29,
   "id": "edf2b002",
   "metadata": {},
   "outputs": [
    {
     "data": {
      "text/plain": [
       "Text(0, 0.5, 'Predicted Temperature')"
      ]
     },
     "execution_count": 29,
     "metadata": {},
     "output_type": "execute_result"
    },
    {
     "data": {
      "image/png": "[encoded data removed]",
      "text/plain": [
       "<Figure size 432x288 with 1 Axes>"
      ]
     },
     "metadata": {
      "needs_background": "light"
     },
     "output_type": "display_data"
    }
   ],
   "source": [
    "plt.scatter(y_train,y_predict)\n",
    "plt.xlabel('Actual Temperature')\n",
    "plt.ylabel('Predicted Temperature')"
   ]
  },
  {
   "cell_type": "code",
   "execution_count": 30,
   "id": "37358abf",
   "metadata": {},
   "outputs": [
    {
     "data": {
      "text/plain": [
       "0.18553391569015298"
      ]
     },
     "execution_count": 30,
     "metadata": {},
     "output_type": "execute_result"
    }
   ],
   "source": [
    "r2_score(y_train,y_predict)"
   ]
  },
  {
   "cell_type": "code",
   "execution_count": 31,
   "id": "e7166448",
   "metadata": {},
   "outputs": [
    {
     "data": {
      "text/plain": [
       "Text(0, 0.5, 'Predicted Temperature')"
      ]
     },
     "execution_count": 31,
     "metadata": {},
     "output_type": "execute_result"
    },
    {
     "data": {
      "image/png": "[encoded data removed]",
      "text/plain": [
       "<Figure size 432x288 with 1 Axes>"
      ]
     },
     "metadata": {
      "needs_background": "light"
     },
     "output_type": "display_data"
    }
   ],
   "source": [
    "y_predict_test = rgr.predict(x_test)\n",
    "plt.scatter(y_test,y_predict_test)\n",
    "plt.xlabel('Actual Temperature')\n",
    "plt.ylabel('Predicted Temperature')"
   ]
  },
  {
   "cell_type": "code",
   "execution_count": null,
   "id": "6b515118",
   "metadata": {},
   "outputs": [],
   "source": []
  }
 ],
 "metadata": {
  "kernelspec": {
   "display_name": "Python 3 (ipykernel)",
   "language": "python",
   "name": "python3"
  },
  "language_info": {
   "codemirror_mode": {
    "name": "ipython",
    "version": 3
   },
   "file_extension": ".py",
   "mimetype": "text/x-python",
   "name": "python",
   "nbconvert_exporter": "python",
   "pygments_lexer": "ipython3",
   "version": "3.9.12"
  }
 },
 "nbformat": 4,
 "nbformat_minor": 5
}
